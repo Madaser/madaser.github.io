{
 "cells": [
  {
   "cell_type": "code",
   "execution_count": 1,
   "metadata": {},
   "outputs": [],
   "source": [
    "import matplotlib.pyplot as plt\n",
    "import pandas as pd\n",
    "import os\n",
    "\n",
    "\n",
    "import pandas as pd\n",
    "import seaborn\n",
    "import math\n",
    "import sklearn\n",
    "import datetime\n",
    "from sklearn.metrics import roc_curve\n",
    "from sklearn.metrics import auc\n",
    "import matplotlib.pyplot as plt\n",
    "from sklearn.ensemble import RandomForestClassifier\n",
    "from sklearn import metrics\n",
    "import pandas\n",
    "from sklearn import model_selection\n",
    "from sklearn.linear_model import LogisticRegression\n",
    "from sklearn.tree import DecisionTreeClassifier\n",
    "from sklearn.neighbors import KNeighborsClassifier\n",
    "from sklearn.discriminant_analysis import LinearDiscriminantAnalysis\n",
    "from sklearn.naive_bayes import GaussianNB\n",
    "from sklearn.svm import SVC\n",
    "\n",
    "import itertools\n",
    "from sklearn import tree\n",
    "import seaborn as sns"
   ]
  },
  {
   "cell_type": "code",
   "execution_count": 3,
   "metadata": {},
   "outputs": [
    {
     "data": {
      "text/plain": [
       "Index(['id', 'diagnosis', 'radius_mean', 'texture_mean', 'perimeter_mean',\n",
       "       'area_mean', 'smoothness_mean', 'compactness_mean', 'concavity_mean',\n",
       "       'concave points_mean', 'symmetry_mean', 'fractal_dimension_mean',\n",
       "       'radius_se', 'texture_se', 'perimeter_se', 'area_se', 'smoothness_se',\n",
       "       'compactness_se', 'concavity_se', 'concave points_se', 'symmetry_se',\n",
       "       'fractal_dimension_se', 'radius_worst', 'texture_worst',\n",
       "       'perimeter_worst', 'area_worst', 'smoothness_worst',\n",
       "       'compactness_worst', 'concavity_worst', 'concave points_worst',\n",
       "       'symmetry_worst', 'fractal_dimension_worst', 'Unnamed: 32'],\n",
       "      dtype='object')"
      ]
     },
     "execution_count": 3,
     "metadata": {},
     "output_type": "execute_result"
    }
   ],
   "source": [
    "orig=pd.read_csv(\"data.csv\")\n",
    "orig.columns"
   ]
  },
  {
   "cell_type": "code",
   "execution_count": 4,
   "metadata": {},
   "outputs": [],
   "source": [
    "data=orig[['id', 'diagnosis', 'radius_mean', 'texture_mean', 'perimeter_mean',\n",
    "       'area_mean', 'smoothness_mean', 'compactness_mean', 'concavity_mean',\n",
    "       'concave points_mean', 'symmetry_mean', 'fractal_dimension_mean',\n",
    "       'radius_se', 'texture_se', 'perimeter_se', 'area_se', 'smoothness_se',\n",
    "       'compactness_se', 'concavity_se', 'concave points_se', 'symmetry_se',\n",
    "       'fractal_dimension_se', 'radius_worst', 'texture_worst',\n",
    "       'perimeter_worst', 'area_worst', 'smoothness_worst',\n",
    "       'compactness_worst', 'concavity_worst', 'concave points_worst',\n",
    "       'symmetry_worst', 'fractal_dimension_worst']]\n",
    "\n"
   ]
  },
  {
   "cell_type": "code",
   "execution_count": 6,
   "metadata": {},
   "outputs": [],
   "source": [
    "del orig['Unnamed: 32']\n"
   ]
  },
  {
   "cell_type": "code",
   "execution_count": 7,
   "metadata": {},
   "outputs": [],
   "source": [
    "X = data.iloc[:, 2:].values\n",
    "y = data.iloc[:, 1].values\n",
    "\n",
    "# Encoding categorical data\n",
    "from sklearn.preprocessing import LabelEncoder\n",
    "labelencoder_X_1 = LabelEncoder()\n",
    "y = labelencoder_X_1.fit_transform(y)\n",
    "\n",
    "# Splitting the dataset into the Training set and Test set\n",
    "from sklearn.model_selection import train_test_split\n",
    "X_train, X_test, y_train, y_test = train_test_split(X, y, test_size = 0.1, random_state = 0)\n",
    "\n",
    "#Feature Scaling\n",
    "from sklearn.preprocessing import StandardScaler\n",
    "sc = StandardScaler()\n",
    "X_train = sc.fit_transform(X_train)\n",
    "X_test = sc.transform(X_test)"
   ]
  },
  {
   "cell_type": "code",
   "execution_count": 8,
   "metadata": {},
   "outputs": [
    {
     "name": "stderr",
     "output_type": "stream",
     "text": [
      "Using TensorFlow backend.\n"
     ]
    }
   ],
   "source": [
    "import keras\n",
    "from keras.models import Sequential\n",
    "from keras.layers import Dense, Dropout"
   ]
  },
  {
   "cell_type": "code",
   "execution_count": 10,
   "metadata": {},
   "outputs": [
    {
     "name": "stdout",
     "output_type": "stream",
     "text": [
      "WARNING:tensorflow:From C:\\Users\\madas\\.conda\\envs\\PythonData\\lib\\site-packages\\keras\\backend\\tensorflow_backend.py:541: The name tf.placeholder is deprecated. Please use tf.compat.v1.placeholder instead.\n",
      "\n",
      "WARNING:tensorflow:From C:\\Users\\madas\\.conda\\envs\\PythonData\\lib\\site-packages\\keras\\backend\\tensorflow_backend.py:4432: The name tf.random_uniform is deprecated. Please use tf.random.uniform instead.\n",
      "\n",
      "WARNING:tensorflow:From C:\\Users\\madas\\.conda\\envs\\PythonData\\lib\\site-packages\\keras\\backend\\tensorflow_backend.py:148: The name tf.placeholder_with_default is deprecated. Please use tf.compat.v1.placeholder_with_default instead.\n",
      "\n",
      "WARNING:tensorflow:From C:\\Users\\madas\\.conda\\envs\\PythonData\\lib\\site-packages\\keras\\backend\\tensorflow_backend.py:3733: calling dropout (from tensorflow.python.ops.nn_ops) with keep_prob is deprecated and will be removed in a future version.\n",
      "Instructions for updating:\n",
      "Please use `rate` instead of `keep_prob`. Rate should be set to `rate = 1 - keep_prob`.\n"
     ]
    },
    {
     "name": "stderr",
     "output_type": "stream",
     "text": [
      "C:\\Users\\madas\\.conda\\envs\\PythonData\\lib\\site-packages\\ipykernel_launcher.py:2: UserWarning: Update your `Dense` call to the Keras 2 API: `Dense(activation=\"relu\", input_dim=30, units=16, kernel_initializer=\"uniform\")`\n",
      "  \n",
      "C:\\Users\\madas\\.conda\\envs\\PythonData\\lib\\site-packages\\ipykernel_launcher.py:3: UserWarning: Update your `Dropout` call to the Keras 2 API: `Dropout(rate=0.1)`\n",
      "  This is separate from the ipykernel package so we can avoid doing imports until\n"
     ]
    }
   ],
   "source": [
    "classifier = Sequential()\n",
    "classifier.add(Dense(output_dim=16, init='uniform', activation='relu', input_dim=30))\n",
    "classifier.add(Dropout(p=0.1))"
   ]
  },
  {
   "cell_type": "code",
   "execution_count": 11,
   "metadata": {},
   "outputs": [
    {
     "name": "stderr",
     "output_type": "stream",
     "text": [
      "C:\\Users\\madas\\.conda\\envs\\PythonData\\lib\\site-packages\\ipykernel_launcher.py:1: UserWarning: Update your `Dense` call to the Keras 2 API: `Dense(activation=\"relu\", units=16, kernel_initializer=\"uniform\")`\n",
      "  \"\"\"Entry point for launching an IPython kernel.\n",
      "C:\\Users\\madas\\.conda\\envs\\PythonData\\lib\\site-packages\\ipykernel_launcher.py:2: UserWarning: Update your `Dropout` call to the Keras 2 API: `Dropout(rate=0.1)`\n",
      "  \n"
     ]
    }
   ],
   "source": [
    "classifier.add(Dense(output_dim=16, init='uniform', activation='relu'))\n",
    "classifier.add(Dropout(p=0.1))"
   ]
  },
  {
   "cell_type": "code",
   "execution_count": 12,
   "metadata": {},
   "outputs": [
    {
     "name": "stderr",
     "output_type": "stream",
     "text": [
      "C:\\Users\\madas\\.conda\\envs\\PythonData\\lib\\site-packages\\ipykernel_launcher.py:1: UserWarning: Update your `Dense` call to the Keras 2 API: `Dense(activation=\"sigmoid\", units=1, kernel_initializer=\"uniform\")`\n",
      "  \"\"\"Entry point for launching an IPython kernel.\n"
     ]
    }
   ],
   "source": [
    "classifier.add(Dense(output_dim=1, init='uniform', activation='sigmoid'))"
   ]
  },
  {
   "cell_type": "code",
   "execution_count": 13,
   "metadata": {},
   "outputs": [
    {
     "name": "stdout",
     "output_type": "stream",
     "text": [
      "WARNING:tensorflow:From C:\\Users\\madas\\.conda\\envs\\PythonData\\lib\\site-packages\\keras\\optimizers.py:793: The name tf.train.Optimizer is deprecated. Please use tf.compat.v1.train.Optimizer instead.\n",
      "\n",
      "WARNING:tensorflow:From C:\\Users\\madas\\.conda\\envs\\PythonData\\lib\\site-packages\\keras\\backend\\tensorflow_backend.py:3657: The name tf.log is deprecated. Please use tf.math.log instead.\n",
      "\n",
      "WARNING:tensorflow:From C:\\Users\\madas\\.conda\\envs\\PythonData\\lib\\site-packages\\tensorflow\\python\\ops\\nn_impl.py:180: add_dispatch_support.<locals>.wrapper (from tensorflow.python.ops.array_ops) is deprecated and will be removed in a future version.\n",
      "Instructions for updating:\n",
      "Use tf.where in 2.0, which has the same broadcast rule as np.where\n"
     ]
    }
   ],
   "source": [
    "classifier.compile(optimizer='adam', loss='binary_crossentropy', metrics=['accuracy'])"
   ]
  },
  {
   "cell_type": "code",
   "execution_count": 14,
   "metadata": {},
   "outputs": [
    {
     "name": "stderr",
     "output_type": "stream",
     "text": [
      "C:\\Users\\madas\\.conda\\envs\\PythonData\\lib\\site-packages\\ipykernel_launcher.py:1: UserWarning: The `nb_epoch` argument in `fit` has been renamed `epochs`.\n",
      "  \"\"\"Entry point for launching an IPython kernel.\n"
     ]
    },
    {
     "name": "stdout",
     "output_type": "stream",
     "text": [
      "Epoch 1/150\n",
      "512/512 [==============================] - 0s 491us/step - loss: 0.6927 - acc: 0.6172\n",
      "Epoch 2/150\n",
      "512/512 [==============================] - 0s 16us/step - loss: 0.6902 - acc: 0.6289\n",
      "Epoch 3/150\n",
      "512/512 [==============================] - 0s 18us/step - loss: 0.6865 - acc: 0.6309\n",
      "Epoch 4/150\n",
      "512/512 [==============================] - 0s 16us/step - loss: 0.6806 - acc: 0.6523\n",
      "Epoch 5/150\n",
      "512/512 [==============================] - 0s 16us/step - loss: 0.6707 - acc: 0.7324\n",
      "Epoch 6/150\n",
      "512/512 [==============================] - 0s 18us/step - loss: 0.6556 - acc: 0.8223\n",
      "Epoch 7/150\n",
      "512/512 [==============================] - 0s 16us/step - loss: 0.6329 - acc: 0.8848\n",
      "Epoch 8/150\n",
      "512/512 [==============================] - 0s 18us/step - loss: 0.6025 - acc: 0.9277\n",
      "Epoch 9/150\n",
      "512/512 [==============================] - 0s 18us/step - loss: 0.5636 - acc: 0.9336\n",
      "Epoch 10/150\n",
      "512/512 [==============================] - 0s 18us/step - loss: 0.5163 - acc: 0.9336\n",
      "Epoch 11/150\n",
      "512/512 [==============================] - 0s 18us/step - loss: 0.4664 - acc: 0.9434\n",
      "Epoch 12/150\n",
      "512/512 [==============================] - 0s 18us/step - loss: 0.4124 - acc: 0.9414\n",
      "Epoch 13/150\n",
      "512/512 [==============================] - 0s 16us/step - loss: 0.3615 - acc: 0.9414\n",
      "Epoch 14/150\n",
      "512/512 [==============================] - 0s 18us/step - loss: 0.3150 - acc: 0.9434\n",
      "Epoch 15/150\n",
      "512/512 [==============================] - 0s 18us/step - loss: 0.2765 - acc: 0.9414\n",
      "Epoch 16/150\n",
      "512/512 [==============================] - 0s 18us/step - loss: 0.2413 - acc: 0.9453\n",
      "Epoch 17/150\n",
      "512/512 [==============================] - 0s 18us/step - loss: 0.2210 - acc: 0.9453\n",
      "Epoch 18/150\n",
      "512/512 [==============================] - 0s 18us/step - loss: 0.1973 - acc: 0.9531\n",
      "Epoch 19/150\n",
      "512/512 [==============================] - 0s 14us/step - loss: 0.1791 - acc: 0.9590\n",
      "Epoch 20/150\n",
      "512/512 [==============================] - 0s 19us/step - loss: 0.1675 - acc: 0.9629\n",
      "Epoch 21/150\n",
      "512/512 [==============================] - 0s 16us/step - loss: 0.1513 - acc: 0.9668\n",
      "Epoch 22/150\n",
      "512/512 [==============================] - 0s 18us/step - loss: 0.1433 - acc: 0.9707\n",
      "Epoch 23/150\n",
      "512/512 [==============================] - 0s 18us/step - loss: 0.1302 - acc: 0.9707\n",
      "Epoch 24/150\n",
      "512/512 [==============================] - 0s 16us/step - loss: 0.1205 - acc: 0.9707\n",
      "Epoch 25/150\n",
      "512/512 [==============================] - 0s 18us/step - loss: 0.1155 - acc: 0.9727\n",
      "Epoch 26/150\n",
      "512/512 [==============================] - 0s 16us/step - loss: 0.1118 - acc: 0.9727\n",
      "Epoch 27/150\n",
      "512/512 [==============================] - 0s 19us/step - loss: 0.1046 - acc: 0.9727\n",
      "Epoch 28/150\n",
      "512/512 [==============================] - 0s 14us/step - loss: 0.1031 - acc: 0.9746\n",
      "Epoch 29/150\n",
      "512/512 [==============================] - 0s 18us/step - loss: 0.1004 - acc: 0.9766\n",
      "Epoch 30/150\n",
      "512/512 [==============================] - 0s 18us/step - loss: 0.0955 - acc: 0.9746\n",
      "Epoch 31/150\n",
      "512/512 [==============================] - 0s 16us/step - loss: 0.0888 - acc: 0.9766\n",
      "Epoch 32/150\n",
      "512/512 [==============================] - 0s 17us/step - loss: 0.0895 - acc: 0.9785\n",
      "Epoch 33/150\n",
      "512/512 [==============================] - 0s 16us/step - loss: 0.0868 - acc: 0.9766\n",
      "Epoch 34/150\n",
      "512/512 [==============================] - 0s 18us/step - loss: 0.0845 - acc: 0.9844\n",
      "Epoch 35/150\n",
      "512/512 [==============================] - 0s 14us/step - loss: 0.0854 - acc: 0.9785\n",
      "Epoch 36/150\n",
      "512/512 [==============================] - 0s 18us/step - loss: 0.0779 - acc: 0.9824\n",
      "Epoch 37/150\n",
      "512/512 [==============================] - 0s 14us/step - loss: 0.0784 - acc: 0.9805\n",
      "Epoch 38/150\n",
      "512/512 [==============================] - 0s 12us/step - loss: 0.0775 - acc: 0.9844\n",
      "Epoch 39/150\n",
      "512/512 [==============================] - 0s 14us/step - loss: 0.0767 - acc: 0.9844\n",
      "Epoch 40/150\n",
      "512/512 [==============================] - 0s 14us/step - loss: 0.0743 - acc: 0.9844\n",
      "Epoch 41/150\n",
      "512/512 [==============================] - 0s 16us/step - loss: 0.0752 - acc: 0.9805\n",
      "Epoch 42/150\n",
      "512/512 [==============================] - 0s 14us/step - loss: 0.0697 - acc: 0.9824\n",
      "Epoch 43/150\n",
      "512/512 [==============================] - 0s 16us/step - loss: 0.0698 - acc: 0.9863\n",
      "Epoch 44/150\n",
      "512/512 [==============================] - 0s 14us/step - loss: 0.0677 - acc: 0.9844\n",
      "Epoch 45/150\n",
      "512/512 [==============================] - 0s 16us/step - loss: 0.0721 - acc: 0.9805\n",
      "Epoch 46/150\n",
      "512/512 [==============================] - 0s 16us/step - loss: 0.0679 - acc: 0.9844\n",
      "Epoch 47/150\n",
      "512/512 [==============================] - 0s 14us/step - loss: 0.0695 - acc: 0.9805\n",
      "Epoch 48/150\n",
      "512/512 [==============================] - 0s 14us/step - loss: 0.0682 - acc: 0.9844\n",
      "Epoch 49/150\n",
      "512/512 [==============================] - 0s 12us/step - loss: 0.0669 - acc: 0.9824\n",
      "Epoch 50/150\n",
      "512/512 [==============================] - 0s 14us/step - loss: 0.0683 - acc: 0.9785\n",
      "Epoch 51/150\n",
      "512/512 [==============================] - 0s 14us/step - loss: 0.0639 - acc: 0.9863\n",
      "Epoch 52/150\n",
      "512/512 [==============================] - 0s 14us/step - loss: 0.0680 - acc: 0.9824\n",
      "Epoch 53/150\n",
      "512/512 [==============================] - 0s 14us/step - loss: 0.0634 - acc: 0.9824\n",
      "Epoch 54/150\n",
      "512/512 [==============================] - 0s 14us/step - loss: 0.0638 - acc: 0.9824\n",
      "Epoch 55/150\n",
      "512/512 [==============================] - 0s 12us/step - loss: 0.0629 - acc: 0.9844\n",
      "Epoch 56/150\n",
      "512/512 [==============================] - 0s 16us/step - loss: 0.0630 - acc: 0.9844\n",
      "Epoch 57/150\n",
      "512/512 [==============================] - 0s 12us/step - loss: 0.0625 - acc: 0.9844\n",
      "Epoch 58/150\n",
      "512/512 [==============================] - 0s 14us/step - loss: 0.0595 - acc: 0.9863\n",
      "Epoch 59/150\n",
      "512/512 [==============================] - 0s 12us/step - loss: 0.0609 - acc: 0.9844\n",
      "Epoch 60/150\n",
      "512/512 [==============================] - 0s 14us/step - loss: 0.0599 - acc: 0.9844\n",
      "Epoch 61/150\n",
      "512/512 [==============================] - 0s 14us/step - loss: 0.0605 - acc: 0.9844\n",
      "Epoch 62/150\n",
      "512/512 [==============================] - 0s 16us/step - loss: 0.0590 - acc: 0.9863\n",
      "Epoch 63/150\n",
      "512/512 [==============================] - 0s 14us/step - loss: 0.0591 - acc: 0.9863\n",
      "Epoch 64/150\n",
      "512/512 [==============================] - 0s 14us/step - loss: 0.0564 - acc: 0.9863\n",
      "Epoch 65/150\n",
      "512/512 [==============================] - 0s 14us/step - loss: 0.0566 - acc: 0.9863\n",
      "Epoch 66/150\n",
      "512/512 [==============================] - 0s 14us/step - loss: 0.0571 - acc: 0.9844\n",
      "Epoch 67/150\n",
      "512/512 [==============================] - 0s 12us/step - loss: 0.0567 - acc: 0.9863\n",
      "Epoch 68/150\n",
      "512/512 [==============================] - 0s 14us/step - loss: 0.0550 - acc: 0.9863\n",
      "Epoch 69/150\n",
      "512/512 [==============================] - 0s 12us/step - loss: 0.0571 - acc: 0.9863\n",
      "Epoch 70/150\n",
      "512/512 [==============================] - 0s 12us/step - loss: 0.0557 - acc: 0.9844\n",
      "Epoch 71/150\n",
      "512/512 [==============================] - 0s 12us/step - loss: 0.0586 - acc: 0.9863\n",
      "Epoch 72/150\n",
      "512/512 [==============================] - 0s 12us/step - loss: 0.0541 - acc: 0.9844\n",
      "Epoch 73/150\n",
      "512/512 [==============================] - 0s 12us/step - loss: 0.0540 - acc: 0.9824\n",
      "Epoch 74/150\n",
      "512/512 [==============================] - 0s 12us/step - loss: 0.0550 - acc: 0.9863\n",
      "Epoch 75/150\n",
      "512/512 [==============================] - 0s 12us/step - loss: 0.0551 - acc: 0.9863\n",
      "Epoch 76/150\n",
      "512/512 [==============================] - 0s 12us/step - loss: 0.0522 - acc: 0.9844\n",
      "Epoch 77/150\n",
      "512/512 [==============================] - 0s 12us/step - loss: 0.0504 - acc: 0.9844\n",
      "Epoch 78/150\n",
      "512/512 [==============================] - 0s 14us/step - loss: 0.0510 - acc: 0.9844\n",
      "Epoch 79/150\n",
      "512/512 [==============================] - 0s 14us/step - loss: 0.0518 - acc: 0.9844\n",
      "Epoch 80/150\n",
      "512/512 [==============================] - 0s 12us/step - loss: 0.0505 - acc: 0.9863\n",
      "Epoch 81/150\n",
      "512/512 [==============================] - 0s 12us/step - loss: 0.0528 - acc: 0.9863\n",
      "Epoch 82/150\n",
      "512/512 [==============================] - 0s 12us/step - loss: 0.0504 - acc: 0.9863\n",
      "Epoch 83/150\n",
      "512/512 [==============================] - 0s 14us/step - loss: 0.0469 - acc: 0.9844\n",
      "Epoch 84/150\n"
     ]
    },
    {
     "name": "stdout",
     "output_type": "stream",
     "text": [
      "512/512 [==============================] - 0s 14us/step - loss: 0.0540 - acc: 0.9844\n",
      "Epoch 85/150\n",
      "512/512 [==============================] - 0s 14us/step - loss: 0.0512 - acc: 0.9844\n",
      "Epoch 86/150\n",
      "512/512 [==============================] - 0s 14us/step - loss: 0.0531 - acc: 0.9824\n",
      "Epoch 87/150\n",
      "512/512 [==============================] - 0s 14us/step - loss: 0.0502 - acc: 0.9883\n",
      "Epoch 88/150\n",
      "512/512 [==============================] - 0s 14us/step - loss: 0.0502 - acc: 0.9863\n",
      "Epoch 89/150\n",
      "512/512 [==============================] - 0s 16us/step - loss: 0.0520 - acc: 0.9863\n",
      "Epoch 90/150\n",
      "512/512 [==============================] - 0s 16us/step - loss: 0.0515 - acc: 0.9844\n",
      "Epoch 91/150\n",
      "512/512 [==============================] - 0s 16us/step - loss: 0.0501 - acc: 0.9863\n",
      "Epoch 92/150\n",
      "512/512 [==============================] - 0s 12us/step - loss: 0.0487 - acc: 0.9844\n",
      "Epoch 93/150\n",
      "512/512 [==============================] - 0s 14us/step - loss: 0.0525 - acc: 0.9863\n",
      "Epoch 94/150\n",
      "512/512 [==============================] - 0s 14us/step - loss: 0.0500 - acc: 0.9883\n",
      "Epoch 95/150\n",
      "512/512 [==============================] - 0s 14us/step - loss: 0.0451 - acc: 0.9883\n",
      "Epoch 96/150\n",
      "512/512 [==============================] - 0s 14us/step - loss: 0.0512 - acc: 0.9824\n",
      "Epoch 97/150\n",
      "512/512 [==============================] - 0s 14us/step - loss: 0.0470 - acc: 0.9844\n",
      "Epoch 98/150\n",
      "512/512 [==============================] - 0s 12us/step - loss: 0.0485 - acc: 0.9883\n",
      "Epoch 99/150\n",
      "512/512 [==============================] - 0s 12us/step - loss: 0.0469 - acc: 0.9863\n",
      "Epoch 100/150\n",
      "512/512 [==============================] - 0s 14us/step - loss: 0.0477 - acc: 0.9883\n",
      "Epoch 101/150\n",
      "512/512 [==============================] - 0s 12us/step - loss: 0.0499 - acc: 0.9863\n",
      "Epoch 102/150\n",
      "512/512 [==============================] - 0s 14us/step - loss: 0.0441 - acc: 0.9863\n",
      "Epoch 103/150\n",
      "512/512 [==============================] - 0s 14us/step - loss: 0.0452 - acc: 0.9844\n",
      "Epoch 104/150\n",
      "512/512 [==============================] - 0s 16us/step - loss: 0.0443 - acc: 0.9883\n",
      "Epoch 105/150\n",
      "512/512 [==============================] - 0s 14us/step - loss: 0.0457 - acc: 0.9902\n",
      "Epoch 106/150\n",
      "512/512 [==============================] - 0s 14us/step - loss: 0.0479 - acc: 0.9902\n",
      "Epoch 107/150\n",
      "512/512 [==============================] - 0s 14us/step - loss: 0.0485 - acc: 0.9883\n",
      "Epoch 108/150\n",
      "512/512 [==============================] - 0s 14us/step - loss: 0.0477 - acc: 0.9883\n",
      "Epoch 109/150\n",
      "512/512 [==============================] - 0s 14us/step - loss: 0.0474 - acc: 0.9863\n",
      "Epoch 110/150\n",
      "512/512 [==============================] - 0s 14us/step - loss: 0.0427 - acc: 0.9883\n",
      "Epoch 111/150\n",
      "512/512 [==============================] - 0s 14us/step - loss: 0.0449 - acc: 0.9844\n",
      "Epoch 112/150\n",
      "512/512 [==============================] - 0s 14us/step - loss: 0.0470 - acc: 0.9883\n",
      "Epoch 113/150\n",
      "512/512 [==============================] - 0s 14us/step - loss: 0.0443 - acc: 0.9902\n",
      "Epoch 114/150\n",
      "512/512 [==============================] - 0s 12us/step - loss: 0.0427 - acc: 0.9883\n",
      "Epoch 115/150\n",
      "512/512 [==============================] - 0s 12us/step - loss: 0.0431 - acc: 0.9883\n",
      "Epoch 116/150\n",
      "512/512 [==============================] - 0s 14us/step - loss: 0.0430 - acc: 0.9902\n",
      "Epoch 117/150\n",
      "512/512 [==============================] - 0s 14us/step - loss: 0.0478 - acc: 0.9902\n",
      "Epoch 118/150\n",
      "512/512 [==============================] - 0s 16us/step - loss: 0.0455 - acc: 0.9883\n",
      "Epoch 119/150\n",
      "512/512 [==============================] - 0s 16us/step - loss: 0.0416 - acc: 0.9922\n",
      "Epoch 120/150\n",
      "512/512 [==============================] - 0s 14us/step - loss: 0.0398 - acc: 0.9902\n",
      "Epoch 121/150\n",
      "512/512 [==============================] - 0s 18us/step - loss: 0.0398 - acc: 0.9902\n",
      "Epoch 122/150\n",
      "512/512 [==============================] - 0s 16us/step - loss: 0.0441 - acc: 0.9902\n",
      "Epoch 123/150\n",
      "512/512 [==============================] - 0s 14us/step - loss: 0.0418 - acc: 0.9922\n",
      "Epoch 124/150\n",
      "512/512 [==============================] - 0s 14us/step - loss: 0.0425 - acc: 0.9902\n",
      "Epoch 125/150\n",
      "512/512 [==============================] - 0s 14us/step - loss: 0.0414 - acc: 0.9902\n",
      "Epoch 126/150\n",
      "512/512 [==============================] - 0s 14us/step - loss: 0.0409 - acc: 0.9883\n",
      "Epoch 127/150\n",
      "512/512 [==============================] - 0s 14us/step - loss: 0.0398 - acc: 0.9883\n",
      "Epoch 128/150\n",
      "512/512 [==============================] - 0s 14us/step - loss: 0.0382 - acc: 0.9902\n",
      "Epoch 129/150\n",
      "512/512 [==============================] - 0s 12us/step - loss: 0.0419 - acc: 0.9902\n",
      "Epoch 130/150\n",
      "512/512 [==============================] - 0s 14us/step - loss: 0.0377 - acc: 0.9922\n",
      "Epoch 131/150\n",
      "512/512 [==============================] - 0s 14us/step - loss: 0.0432 - acc: 0.9883\n",
      "Epoch 132/150\n",
      "512/512 [==============================] - 0s 16us/step - loss: 0.0396 - acc: 0.9883\n",
      "Epoch 133/150\n",
      "512/512 [==============================] - 0s 14us/step - loss: 0.0363 - acc: 0.9922\n",
      "Epoch 134/150\n",
      "512/512 [==============================] - 0s 16us/step - loss: 0.0426 - acc: 0.9902\n",
      "Epoch 135/150\n",
      "512/512 [==============================] - 0s 14us/step - loss: 0.0434 - acc: 0.9902\n",
      "Epoch 136/150\n",
      "512/512 [==============================] - 0s 16us/step - loss: 0.0361 - acc: 0.9922\n",
      "Epoch 137/150\n",
      "512/512 [==============================] - 0s 12us/step - loss: 0.0401 - acc: 0.9883\n",
      "Epoch 138/150\n",
      "512/512 [==============================] - 0s 16us/step - loss: 0.0422 - acc: 0.9863\n",
      "Epoch 139/150\n",
      "512/512 [==============================] - 0s 16us/step - loss: 0.0419 - acc: 0.9902\n",
      "Epoch 140/150\n",
      "512/512 [==============================] - 0s 16us/step - loss: 0.0372 - acc: 0.9902\n",
      "Epoch 141/150\n",
      "512/512 [==============================] - 0s 14us/step - loss: 0.0395 - acc: 0.9922\n",
      "Epoch 142/150\n",
      "512/512 [==============================] - 0s 19us/step - loss: 0.0402 - acc: 0.9922\n",
      "Epoch 143/150\n",
      "512/512 [==============================] - 0s 16us/step - loss: 0.0438 - acc: 0.9883\n",
      "Epoch 144/150\n",
      "512/512 [==============================] - 0s 18us/step - loss: 0.0375 - acc: 0.9922\n",
      "Epoch 145/150\n",
      "512/512 [==============================] - 0s 16us/step - loss: 0.0390 - acc: 0.9922\n",
      "Epoch 146/150\n",
      "512/512 [==============================] - 0s 17us/step - loss: 0.0383 - acc: 0.9922\n",
      "Epoch 147/150\n",
      "512/512 [==============================] - 0s 14us/step - loss: 0.0414 - acc: 0.9922\n",
      "Epoch 148/150\n",
      "512/512 [==============================] - 0s 20us/step - loss: 0.0362 - acc: 0.9922\n",
      "Epoch 149/150\n",
      "512/512 [==============================] - 0s 18us/step - loss: 0.0403 - acc: 0.9902\n",
      "Epoch 150/150\n",
      "512/512 [==============================] - 0s 16us/step - loss: 0.0372 - acc: 0.9922\n"
     ]
    },
    {
     "data": {
      "text/plain": [
       "<keras.callbacks.History at 0x20fac993be0>"
      ]
     },
     "execution_count": 14,
     "metadata": {},
     "output_type": "execute_result"
    }
   ],
   "source": [
    "classifier.fit(X_train, y_train, batch_size=100, nb_epoch=150)"
   ]
  },
  {
   "cell_type": "code",
   "execution_count": 15,
   "metadata": {},
   "outputs": [],
   "source": [
    "y_pred = classifier.predict(X_test)\n",
    "y_pred = (y_pred > 0.5)"
   ]
  },
  {
   "cell_type": "code",
   "execution_count": 16,
   "metadata": {},
   "outputs": [],
   "source": [
    "from sklearn.metrics import confusion_matrix\n",
    "cm = confusion_matrix(y_test, y_pred)"
   ]
  },
  {
   "cell_type": "code",
   "execution_count": 17,
   "metadata": {},
   "outputs": [
    {
     "data": {
      "image/png": "[encoded data removed]",
      "text/plain": [
       "<Figure size 432x288 with 2 Axes>"
      ]
     },
     "metadata": {
      "needs_background": "light"
     },
     "output_type": "display_data"
    }
   ],
   "source": [
    "sns.heatmap(cm,annot=True)\n",
    "plt.savefig('h.png')\n"
   ]
  },
  {
   "cell_type": "code",
   "execution_count": 20,
   "metadata": {},
   "outputs": [
    {
     "name": "stdout",
     "output_type": "stream",
     "text": [
      "Normal Neural Network - Loss: 0.026332709039643146, Accuracy: 0.9824561403508771\n"
     ]
    }
   ],
   "source": [
    "classifier_loss, classifier_accuracy = classifier.evaluate(\n",
    "    X_test, y_test, verbose=2)\n",
    "print(\n",
    "    f\"Normal Neural Network - Loss: {classifier_loss}, Accuracy: {classifier_accuracy}\")"
   ]
  },
  {
   "cell_type": "code",
   "execution_count": 21,
   "metadata": {},
   "outputs": [
    {
     "data": {
      "text/plain": [
       "(1.0, 0.9565217391304348, 0.9714285714285714)"
      ]
     },
     "execution_count": 21,
     "metadata": {},
     "output_type": "execute_result"
    }
   ],
   "source": [
    "sensitivity=34/34; specificity=22/23; PPV=34/35\n",
    "sensitivity,specificity,PPV"
   ]
  },
  {
   "cell_type": "code",
   "execution_count": null,
   "metadata": {},
   "outputs": [],
   "source": []
  },
  {
   "cell_type": "code",
   "execution_count": 23,
   "metadata": {},
   "outputs": [
    {
     "ename": "ValueError",
     "evalue": "shape mismatch: objects cannot be broadcast to a single shape",
     "output_type": "error",
     "traceback": [
      "\u001b[1;31m---------------------------------------------------------------------------\u001b[0m",
      "\u001b[1;31mValueError\u001b[0m                                Traceback (most recent call last)",
      "\u001b[1;32m<ipython-input-23-05b3ef7f1e0e>\u001b[0m in \u001b[0;36m<module>\u001b[1;34m\u001b[0m\n\u001b[0;32m     10\u001b[0m \u001b[1;33m\u001b[0m\u001b[0m\n\u001b[0;32m     11\u001b[0m \u001b[0myvals\u001b[0m \u001b[1;33m=\u001b[0m \u001b[1;33m[\u001b[0m\u001b[1;36m90.9\u001b[0m\u001b[1;33m,\u001b[0m\u001b[1;36m69.7\u001b[0m\u001b[1;33m,\u001b[0m\u001b[1;36m77.7\u001b[0m\u001b[1;33m]\u001b[0m\u001b[1;33m\u001b[0m\u001b[1;33m\u001b[0m\u001b[0m\n\u001b[1;32m---> 12\u001b[1;33m \u001b[0mrects1\u001b[0m \u001b[1;33m=\u001b[0m \u001b[0max\u001b[0m\u001b[1;33m.\u001b[0m\u001b[0mbar\u001b[0m\u001b[1;33m(\u001b[0m\u001b[0mind\u001b[0m\u001b[1;33m,\u001b[0m \u001b[0myvals\u001b[0m\u001b[1;33m,\u001b[0m \u001b[0mwidth\u001b[0m\u001b[1;33m,\u001b[0m \u001b[0mcolor\u001b[0m\u001b[1;33m=\u001b[0m\u001b[1;34m'r'\u001b[0m\u001b[1;33m)\u001b[0m\u001b[1;33m\u001b[0m\u001b[1;33m\u001b[0m\u001b[0m\n\u001b[0m\u001b[0;32m     13\u001b[0m \u001b[0mzvals\u001b[0m \u001b[1;33m=\u001b[0m \u001b[1;33m[\u001b[0m\u001b[1;36m67.2\u001b[0m\u001b[1;33m,\u001b[0m\u001b[1;36m66.6\u001b[0m\u001b[1;33m,\u001b[0m\u001b[1;36m93.3\u001b[0m\u001b[1;33m]\u001b[0m\u001b[1;33m\u001b[0m\u001b[1;33m\u001b[0m\u001b[0m\n\u001b[0;32m     14\u001b[0m \u001b[0mrects2\u001b[0m \u001b[1;33m=\u001b[0m \u001b[0max\u001b[0m\u001b[1;33m.\u001b[0m\u001b[0mbar\u001b[0m\u001b[1;33m(\u001b[0m\u001b[0mind\u001b[0m\u001b[1;33m+\u001b[0m\u001b[0mwidth\u001b[0m\u001b[1;33m,\u001b[0m \u001b[0mzvals\u001b[0m\u001b[1;33m,\u001b[0m \u001b[0mwidth\u001b[0m\u001b[1;33m,\u001b[0m \u001b[0mcolor\u001b[0m\u001b[1;33m=\u001b[0m\u001b[1;34m'g'\u001b[0m\u001b[1;33m)\u001b[0m\u001b[1;33m\u001b[0m\u001b[1;33m\u001b[0m\u001b[0m\n",
      "\u001b[1;32m~\\.conda\\envs\\PythonData\\lib\\site-packages\\matplotlib\\__init__.py\u001b[0m in \u001b[0;36minner\u001b[1;34m(ax, data, *args, **kwargs)\u001b[0m\n\u001b[0;32m   1808\u001b[0m                         \u001b[1;34m\"the Matplotlib list!)\"\u001b[0m \u001b[1;33m%\u001b[0m \u001b[1;33m(\u001b[0m\u001b[0mlabel_namer\u001b[0m\u001b[1;33m,\u001b[0m \u001b[0mfunc\u001b[0m\u001b[1;33m.\u001b[0m\u001b[0m__name__\u001b[0m\u001b[1;33m)\u001b[0m\u001b[1;33m,\u001b[0m\u001b[1;33m\u001b[0m\u001b[1;33m\u001b[0m\u001b[0m\n\u001b[0;32m   1809\u001b[0m                         RuntimeWarning, stacklevel=2)\n\u001b[1;32m-> 1810\u001b[1;33m             \u001b[1;32mreturn\u001b[0m \u001b[0mfunc\u001b[0m\u001b[1;33m(\u001b[0m\u001b[0max\u001b[0m\u001b[1;33m,\u001b[0m \u001b[1;33m*\u001b[0m\u001b[0margs\u001b[0m\u001b[1;33m,\u001b[0m \u001b[1;33m**\u001b[0m\u001b[0mkwargs\u001b[0m\u001b[1;33m)\u001b[0m\u001b[1;33m\u001b[0m\u001b[1;33m\u001b[0m\u001b[0m\n\u001b[0m\u001b[0;32m   1811\u001b[0m \u001b[1;33m\u001b[0m\u001b[0m\n\u001b[0;32m   1812\u001b[0m         inner.__doc__ = _add_data_doc(inner.__doc__,\n",
      "\u001b[1;32m~\\.conda\\envs\\PythonData\\lib\\site-packages\\matplotlib\\axes\\_axes.py\u001b[0m in \u001b[0;36mbar\u001b[1;34m(self, x, height, width, bottom, align, **kwargs)\u001b[0m\n\u001b[0;32m   2249\u001b[0m         x, height, width, y, linewidth = np.broadcast_arrays(\n\u001b[0;32m   2250\u001b[0m             \u001b[1;31m# Make args iterable too.\u001b[0m\u001b[1;33m\u001b[0m\u001b[1;33m\u001b[0m\u001b[1;33m\u001b[0m\u001b[0m\n\u001b[1;32m-> 2251\u001b[1;33m             np.atleast_1d(x), height, width, y, linewidth)\n\u001b[0m\u001b[0;32m   2252\u001b[0m \u001b[1;33m\u001b[0m\u001b[0m\n\u001b[0;32m   2253\u001b[0m         \u001b[1;31m# Now that units have been converted, set the tick locations.\u001b[0m\u001b[1;33m\u001b[0m\u001b[1;33m\u001b[0m\u001b[1;33m\u001b[0m\u001b[0m\n",
      "\u001b[1;32m~\\.conda\\envs\\PythonData\\lib\\site-packages\\numpy\\lib\\stride_tricks.py\u001b[0m in \u001b[0;36mbroadcast_arrays\u001b[1;34m(*args, **kwargs)\u001b[0m\n\u001b[0;32m    257\u001b[0m     \u001b[0margs\u001b[0m \u001b[1;33m=\u001b[0m \u001b[1;33m[\u001b[0m\u001b[0mnp\u001b[0m\u001b[1;33m.\u001b[0m\u001b[0marray\u001b[0m\u001b[1;33m(\u001b[0m\u001b[0m_m\u001b[0m\u001b[1;33m,\u001b[0m \u001b[0mcopy\u001b[0m\u001b[1;33m=\u001b[0m\u001b[1;32mFalse\u001b[0m\u001b[1;33m,\u001b[0m \u001b[0msubok\u001b[0m\u001b[1;33m=\u001b[0m\u001b[0msubok\u001b[0m\u001b[1;33m)\u001b[0m \u001b[1;32mfor\u001b[0m \u001b[0m_m\u001b[0m \u001b[1;32min\u001b[0m \u001b[0margs\u001b[0m\u001b[1;33m]\u001b[0m\u001b[1;33m\u001b[0m\u001b[1;33m\u001b[0m\u001b[0m\n\u001b[0;32m    258\u001b[0m \u001b[1;33m\u001b[0m\u001b[0m\n\u001b[1;32m--> 259\u001b[1;33m     \u001b[0mshape\u001b[0m \u001b[1;33m=\u001b[0m \u001b[0m_broadcast_shape\u001b[0m\u001b[1;33m(\u001b[0m\u001b[1;33m*\u001b[0m\u001b[0margs\u001b[0m\u001b[1;33m)\u001b[0m\u001b[1;33m\u001b[0m\u001b[1;33m\u001b[0m\u001b[0m\n\u001b[0m\u001b[0;32m    260\u001b[0m \u001b[1;33m\u001b[0m\u001b[0m\n\u001b[0;32m    261\u001b[0m     \u001b[1;32mif\u001b[0m \u001b[0mall\u001b[0m\u001b[1;33m(\u001b[0m\u001b[0marray\u001b[0m\u001b[1;33m.\u001b[0m\u001b[0mshape\u001b[0m \u001b[1;33m==\u001b[0m \u001b[0mshape\u001b[0m \u001b[1;32mfor\u001b[0m \u001b[0marray\u001b[0m \u001b[1;32min\u001b[0m \u001b[0margs\u001b[0m\u001b[1;33m)\u001b[0m\u001b[1;33m:\u001b[0m\u001b[1;33m\u001b[0m\u001b[1;33m\u001b[0m\u001b[0m\n",
      "\u001b[1;32m~\\.conda\\envs\\PythonData\\lib\\site-packages\\numpy\\lib\\stride_tricks.py\u001b[0m in \u001b[0;36m_broadcast_shape\u001b[1;34m(*args)\u001b[0m\n\u001b[0;32m    191\u001b[0m     \u001b[1;31m# use the old-iterator because np.nditer does not handle size 0 arrays\u001b[0m\u001b[1;33m\u001b[0m\u001b[1;33m\u001b[0m\u001b[1;33m\u001b[0m\u001b[0m\n\u001b[0;32m    192\u001b[0m     \u001b[1;31m# consistently\u001b[0m\u001b[1;33m\u001b[0m\u001b[1;33m\u001b[0m\u001b[1;33m\u001b[0m\u001b[0m\n\u001b[1;32m--> 193\u001b[1;33m     \u001b[0mb\u001b[0m \u001b[1;33m=\u001b[0m \u001b[0mnp\u001b[0m\u001b[1;33m.\u001b[0m\u001b[0mbroadcast\u001b[0m\u001b[1;33m(\u001b[0m\u001b[1;33m*\u001b[0m\u001b[0margs\u001b[0m\u001b[1;33m[\u001b[0m\u001b[1;33m:\u001b[0m\u001b[1;36m32\u001b[0m\u001b[1;33m]\u001b[0m\u001b[1;33m)\u001b[0m\u001b[1;33m\u001b[0m\u001b[1;33m\u001b[0m\u001b[0m\n\u001b[0m\u001b[0;32m    194\u001b[0m     \u001b[1;31m# unfortunately, it cannot handle 32 or more arguments directly\u001b[0m\u001b[1;33m\u001b[0m\u001b[1;33m\u001b[0m\u001b[1;33m\u001b[0m\u001b[0m\n\u001b[0;32m    195\u001b[0m     \u001b[1;32mfor\u001b[0m \u001b[0mpos\u001b[0m \u001b[1;32min\u001b[0m \u001b[0mrange\u001b[0m\u001b[1;33m(\u001b[0m\u001b[1;36m32\u001b[0m\u001b[1;33m,\u001b[0m \u001b[0mlen\u001b[0m\u001b[1;33m(\u001b[0m\u001b[0margs\u001b[0m\u001b[1;33m)\u001b[0m\u001b[1;33m,\u001b[0m \u001b[1;36m31\u001b[0m\u001b[1;33m)\u001b[0m\u001b[1;33m:\u001b[0m\u001b[1;33m\u001b[0m\u001b[1;33m\u001b[0m\u001b[0m\n",
      "\u001b[1;31mValueError\u001b[0m: shape mismatch: objects cannot be broadcast to a single shape"
     ]
    },
    {
     "data": {
      "image/png": "[encoded data removed]",
      "text/plain": [
       "<Figure size 432x288 with 1 Axes>"
      ]
     },
     "metadata": {
      "needs_background": "light"
     },
     "output_type": "display_data"
    }
   ],
   "source": [
    "import numpy as np\n",
    "import matplotlib.pyplot as plt\n",
    "\n",
    "N = 5\n",
    "ind = np.arange(N)  # the x locations for the groups\n",
    "width = 0.27       # the width of the bars\n",
    "\n",
    "fig = plt.figure()\n",
    "ax = fig.add_subplot(111)\n",
    "\n",
    "yvals = [90.9,69.7,77.7]\n",
    "rects1 = ax.bar(ind, yvals, width, color='r')\n",
    "zvals = [67.2,66.6,93.3]\n",
    "rects2 = ax.bar(ind+width, zvals, width, color='g')\n",
    "kvals = [88.77,93.3,97.7]\n",
    "rects3 = ax.bar(ind+width*2, kvals, width, color='b')\n",
    "bvals = [93.68, 97.92, 98.8]\n",
    "rects4 = ax.bar(ind+width*4, bvals, width, color='o')\n",
    "avals = [100, 95.65, 97.1]\n",
    "rects5 = ax.bar(ind+width*6, avals, width, color='y')\n",
    "\n",
    "ax.set_ylabel('Scores')\n",
    "ax.set_xticks(ind+width)\n",
    "ax.set_xticklabels( ('sensitivity','specificity', 'PPV'))\n",
    "ax.legend( (rects1[0], rects2[0], rects3[0], rects4[0], rects5[0]), ('Logistic', 'KNN', 'Tree', 'RF', 'Tensor') )\n",
    "\n",
    "def autolabel(rects):\n",
    "    for rect in rects:\n",
    "        h = rect.get_height()\n",
    "        ax.text(rect.get_x()+rect.get_width()/2., 1.05*h, '%d'%int(h),\n",
    "                ha='center', va='bottom')\n",
    "\n",
    "autolabel(rects1)\n",
    "autolabel(rects2)\n",
    "autolabel(rects3)\n",
    "autolabel(rects4)\n",
    "autolabel(rects5)\n",
    "\n",
    "plt.show()"
   ]
  },
  {
   "cell_type": "code",
   "execution_count": 55,
   "metadata": {},
   "outputs": [
    {
     "data": {
      "image/png": "[encoded data removed]",
      "text/plain": [
       "<Figure size 432x288 with 1 Axes>"
      ]
     },
     "metadata": {
      "needs_background": "light"
     },
     "output_type": "display_data"
    },
    {
     "data": {
      "text/plain": [
       "<Figure size 432x288 with 0 Axes>"
      ]
     },
     "metadata": {},
     "output_type": "display_data"
    }
   ],
   "source": [
    "n_groups = 3\n",
    "logistic = (90.9,69.7,77.7)\n",
    "knn = (67.2,66.6,93.3)\n",
    "tree= (88.77, 93.3, 97.7)\n",
    "RF= (93.68, 97.92, 98.8)\n",
    "TF= (100, 95.65, 97.1)\n",
    "\n",
    "# create plot\n",
    "fig, ax = plt.subplots()\n",
    "index = np.arange(n_groups)\n",
    "bar_width = 0.2\n",
    "opacity = 0.8\n",
    "\n",
    "rects1 = plt.bar(index, logistic, bar_width,\n",
    "alpha=opacity,\n",
    "color='r',\n",
    "label='Logistic')\n",
    "\n",
    "rects2 = plt.bar(index + bar_width, knn, bar_width,\n",
    "alpha=opacity,\n",
    "color='b',\n",
    "label='KNN')\n",
    "\n",
    "rects3 = plt.bar(index + bar_width*2, tree, bar_width,\n",
    "alpha=opacity,\n",
    "color='y',\n",
    "label='tree')\n",
    "\n",
    "rects4 = plt.bar(index + bar_width*3, RF, bar_width,\n",
    "alpha=opacity,\n",
    "color='g',\n",
    "label='RF')\n",
    "\n",
    "rects5 = plt.bar(index + bar_width*4, TF, bar_width,\n",
    "alpha=opacity,\n",
    "color='orange',\n",
    "label='TF')\n",
    "\n",
    "\n",
    "plt.xlabel('Different types of Machine Learning Algorithms')\n",
    "plt.ylabel('Scores')\n",
    "plt.title('Scores by algorithm')\n",
    "plt.xticks(index + bar_width*2, ('sens', 'spec', 'PPV'))\n",
    "plt.legend()\n",
    "\n",
    "plt.tight_layout()\n",
    "plt.show()\n",
    "plt.savefig('comparison.png')"
   ]
  },
  {
   "cell_type": "code",
   "execution_count": null,
   "metadata": {},
   "outputs": [],
   "source": []
  }
 ],
 "metadata": {
  "kernelspec": {
   "display_name": "Python 3",
   "language": "python",
   "name": "python3"
  },
  "language_info": {
   "codemirror_mode": {
    "name": "ipython",
    "version": 3
   },
   "file_extension": ".py",
   "mimetype": "text/x-python",
   "name": "python",
   "nbconvert_exporter": "python",
   "pygments_lexer": "ipython3",
   "version": "3.6.8"
  }
 },
 "nbformat": 4,
 "nbformat_minor": 2
}
